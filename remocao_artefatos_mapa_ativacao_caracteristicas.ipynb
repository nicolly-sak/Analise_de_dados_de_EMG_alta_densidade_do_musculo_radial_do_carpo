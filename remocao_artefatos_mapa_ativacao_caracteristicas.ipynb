{
  "nbformat": 4,
  "nbformat_minor": 0,
  "metadata": {
    "colab": {
      "name": "remocao_artefatos_mapa_ativacao_caracteristicas.ipynb",
      "provenance": []
    },
    "kernelspec": {
      "name": "python3",
      "display_name": "Python 3"
    },
    "language_info": {
      "name": "python"
    }
  },
  "cells": [
    {
      "cell_type": "markdown",
      "source": [
        "# Features \n",
        "\n",
        "Nicolly Kobayashi  \n",
        "Renato Watanabe\n"
      ],
      "metadata": {
        "id": "ddEUG90wUpxM"
      }
    },
    {
      "cell_type": "markdown",
      "source": [
        "## Mount Google Drive"
      ],
      "metadata": {
        "id": "G5p8JptgAFHp"
      }
    },
    {
      "cell_type": "code",
      "execution_count": null,
      "metadata": {
        "colab": {
          "base_uri": "https://localhost:8080/"
        },
        "id": "cGMXWzZwUbYp",
        "outputId": "5997505e-4176-462f-a75e-1eeac6bccd0b"
      },
      "outputs": [
        {
          "output_type": "stream",
          "name": "stdout",
          "text": [
            "Mounted at /content/drive\n"
          ]
        }
      ],
      "source": [
        "from google.colab import drive\n",
        "drive.mount('/content/drive')"
      ]
    },
    {
      "cell_type": "markdown",
      "source": [
        "## Import libraries"
      ],
      "metadata": {
        "id": "oFmwdj-NAKDe"
      }
    },
    {
      "cell_type": "code",
      "source": [
        "!pip install hickle\n",
        "import hickle\n",
        "import pandas as pd\n",
        "import numpy as np\n",
        "from scipy.spatial import Delaunay\n",
        "from scipy.interpolate import LinearNDInterpolator\n",
        "from skimage.morphology import reconstruction, diameter_opening\n",
        "import h5py"
      ],
      "metadata": {
        "colab": {
          "base_uri": "https://localhost:8080/"
        },
        "id": "ZDd1ugO-UwAW",
        "outputId": "96037578-ba9a-47f0-8fbe-72eb8dbd90dc"
      },
      "execution_count": null,
      "outputs": [
        {
          "output_type": "stream",
          "name": "stdout",
          "text": [
            "Looking in indexes: https://pypi.org/simple, https://us-python.pkg.dev/colab-wheels/public/simple/\n",
            "Collecting hickle\n",
            "  Downloading hickle-4.0.4-py3-none-any.whl (49 kB)\n",
            "\u001b[K     |████████████████████████████████| 49 kB 2.7 MB/s \n",
            "\u001b[?25hRequirement already satisfied: six>=1.11.0 in /usr/local/lib/python3.7/dist-packages (from hickle) (1.15.0)\n",
            "Requirement already satisfied: dill>=0.3.0 in /usr/local/lib/python3.7/dist-packages (from hickle) (0.3.5.1)\n",
            "Collecting h5py<3.0.0,>=2.8.0\n",
            "  Downloading h5py-2.10.0-cp37-cp37m-manylinux1_x86_64.whl (2.9 MB)\n",
            "\u001b[K     |████████████████████████████████| 2.9 MB 14.4 MB/s \n",
            "\u001b[?25hRequirement already satisfied: numpy>=1.8 in /usr/local/lib/python3.7/dist-packages (from hickle) (1.21.6)\n",
            "Installing collected packages: h5py, hickle\n",
            "  Attempting uninstall: h5py\n",
            "    Found existing installation: h5py 3.1.0\n",
            "    Uninstalling h5py-3.1.0:\n",
            "      Successfully uninstalled h5py-3.1.0\n",
            "Successfully installed h5py-2.10.0 hickle-4.0.4\n"
          ]
        }
      ]
    },
    {
      "cell_type": "markdown",
      "source": [
        "## Load files with the EMG signals RMS"
      ],
      "metadata": {
        "id": "GTc8Fws_ANT8"
      }
    },
    {
      "cell_type": "code",
      "source": [
        "matriz_p_list =  hickle.load(\"/content/drive/MyDrive/dicionario/matriz_p_cut.h5\")\n",
        "matriz_rms_list =  hickle.load(\"/content/drive/MyDrive/dicionario/matriz_rms_cut.h5\")\n",
        "f_list =  hickle.load(\"/content/drive/MyDrive/dicionario/f_list_teste.hkl\")"
      ],
      "metadata": {
        "id": "h4lMgbHkVEDJ"
      },
      "execution_count": null,
      "outputs": []
    },
    {
      "cell_type": "markdown",
      "source": [
        "## Artifact removal functions"
      ],
      "metadata": {
        "id": "-MXQnfDCAUfH"
      }
    },
    {
      "cell_type": "markdown",
      "source": [
        "Two measures are computed to identify which signals are artifacts: $P_l$ (low frequency) and $P_{line}$ (power-line frequency and its first four harmonics). They were computed by:\n",
        "\n",
        "$P_l = \\frac{\\int_0^{12} S(f)\\,df}{\\int_0^{\\infty} S(f)\\,df} \\approx  \\frac{\\displaystyle\\sum_{i=0}^{a}S(i)}{\\displaystyle\\sum_{i=0}^{N-1}S(i)}$\n",
        "\n",
        "$P_{line} = \\frac{(S(50)+S(100)+S(150)+S(200)+S(250))\\Delta f}{\\int_0^{\\infty} S(f)\\,df} \\approx = \\frac{S(50)+S(100)+S(150)+S(200)+S(250)}{\\displaystyle\\sum_{i=0}^{N-1}S(i)}$\n",
        "\n",
        "where $a$ is the frequency closer to 12 Hz and $N$ is the number of discrete frequencies computed by the Welch method."
      ],
      "metadata": {
        "id": "t_5HGuLYWV5t"
      }
    },
    {
      "cell_type": "code",
      "source": [
        "def pl_pline(matriz_p, f):\n",
        "  matriz_pl = matriz_p[:,:,f<=12].sum(axis=2)/matriz_p.sum(axis=2)\n",
        "\n",
        "  matriz_pline = (matriz_p[:,:,np.abs(f-50)<2].sum(axis=2)+matriz_p[:,:,np.abs(f-100)<2].sum(axis=2) +\n",
        "                  matriz_p[:,:,np.abs(f-150)<2].sum(axis=2)+matriz_p[:,:,np.abs(f-200)<2].sum(axis=2) +\n",
        "                  matriz_p[:,:,np.abs(f-250)<2].sum(axis=2))/matriz_p.sum(axis=2)\n",
        "  \n",
        "  return matriz_pl, matriz_pline"
      ],
      "metadata": {
        "id": "3dCUgXsEWLCO"
      },
      "execution_count": null,
      "outputs": []
    },
    {
      "cell_type": "markdown",
      "source": [
        "Only a subset of the channels are used to compute the thresholds that will define if a channel is an artifact. This subset, named ref, is the subset of channels that follow these conditions:\n",
        "\n",
        "$\\text{ref} = \\left\\{\\begin{array}{l}\\left|P_l(\\text{ref}) - \\text{median}(P_l)\\right| < 1.5IQR(P_l)\\\\ \n",
        "\\left|P_{line}(\\text{ref}) - \\text{median}(P_{line}) \\right| < 1.5IQR(P_{line})\n",
        " \\end{array}\\right.$\n",
        "\n",
        "where IQR stands for interquartile range"
      ],
      "metadata": {
        "id": "SFQN_TP3WnEe"
      }
    },
    {
      "cell_type": "code",
      "source": [
        "def comp_ref(p) :\n",
        "  median = np.median(p)\n",
        "  q1 = np.quantile(p, q=0.25)\n",
        "  q4 = np.quantile(p, q=0.75)\n",
        "  iqr = q4 - q1\n",
        "  \n",
        "  ref_x = np.abs(p - median) < 1.5*iqr\n",
        "\n",
        "  return ref_x"
      ],
      "metadata": {
        "id": "fNzqbvtbWl2L"
      },
      "execution_count": null,
      "outputs": []
    },
    {
      "cell_type": "code",
      "source": [
        "def ref_funcao(matriz_pl, matriz_pline) :\n",
        "  ref_pl = comp_ref(matriz_pl)\n",
        "  ref_pline = comp_ref(matriz_pline)\n",
        "\n",
        "  ref = np.logical_and(ref_pl, ref_pline)\n",
        "  return ref"
      ],
      "metadata": {
        "id": "ehAqLaZ2WgQr"
      },
      "execution_count": null,
      "outputs": []
    },
    {
      "cell_type": "markdown",
      "source": [
        "The criteria to decide whether a channel is an artifact is based on three thresholds.\n",
        "\n",
        "If any of these conditions are not satisfied, the channel is considered an artifact and should be removed from further analysis.\n",
        "\n",
        "$\\text{Non-artifact} = \\left\\{\\begin{array}{l} P_l < \\text{thresh}_{l} \\\\                                              P_{line} < \\text{thresh}_{line}\\\\                                               RMS > \\text{thresh}_{RMS}\\end{array}\\right.$"
      ],
      "metadata": {
        "id": "09RWcl4eW8VS"
      }
    },
    {
      "cell_type": "code",
      "source": [
        "def thresh(p, k) :\n",
        "  q1 = np.quantile(p, q=0.25)\n",
        "  q4 = np.quantile(p, q=0.75)\n",
        "  iqr = q4 - q1\n",
        "  median = np.median(p)\n",
        "  thresh = k * (median + 1.5*iqr)\n",
        "  return thresh"
      ],
      "metadata": {
        "id": "GdB1spsqW04N"
      },
      "execution_count": null,
      "outputs": []
    },
    {
      "cell_type": "markdown",
      "source": [
        "The threshold for the $RMS$ is computed by:\n",
        "\n",
        "$\\text{thres}_{RMS} = \\min\\{\\mu_A,\\mu_B,\\mu_C \\} + k_2\\max\\{\\sigma_A, \\sigma_B, \\sigma_C\\}$ \n",
        "\n",
        "where $k_{2} = 0.2$, $\\mu_A$, $\\mu_B$, $\\mu_C$ are the mean of the matrices $P_A$, $P_B$ and $P_C$, respectively, and $\\sigma_A$, $\\sigma_B$, $\\sigma_C$ are the standard deviation of the matrices $P_A$, $P_B$ and $P_C$, respectively. The matrices $P_A$, $P_B$ and $P_C$ are built as follows. The array of HD-EMG has 9 rows and 14 columns. For the $i^{\\text{th}}$ row and the $j^{th}$ column of the array:\n",
        "\n",
        "$P_A[i,j] = [RMS[i-1,j,RMS[i+1,j]]$  \n",
        "$P_B[i,j] = [RMS[i-1,j+1,RMS[i+1,j-1]]$  \n",
        "$P_C[i,j] = [RMS[i+1,j+1,RMS[i-1,j-1]]$\n",
        "\n",
        "i.e., these matrices have 9 rows, 14 columns and 2 layers deep.\n"
      ],
      "metadata": {
        "id": "nLsBqSR3BPPp"
      }
    },
    {
      "cell_type": "code",
      "source": [
        "def Pa_Pb_Pc(matriz_rms):\n",
        "  Pa = np.zeros((9, 14, 2))\n",
        "  Pb = np.zeros((9, 14, 2))\n",
        "  Pc = np.zeros((9, 14, 2))\n",
        "\n",
        "  for c in np.arange(0,14):\n",
        "    for l in np.arange(0,9):\n",
        "      if c == 0:\n",
        "        if l == 0:\n",
        "          Pa[l,c,0] = 0\n",
        "          Pa[l,c,1] = matriz_rms[l,c+1]\n",
        "          Pb[l, c,:] = 0\n",
        "          Pc[l,c,1] = matriz_rms[l+1,c+1]\n",
        "          Pc[l,c,0] = 0\n",
        "        elif l == 8:\n",
        "          Pa[l,c,0] = 0\n",
        "          Pa[l,c,1] = matriz_rms[l,c+1]\n",
        "          Pb[l, c, 0] = 0\n",
        "          Pb[l, c, 1] = matriz_rms[l-1,c+1]\n",
        "          Pc[l, c,:] = 0\n",
        "        elif l < 8 and l > 0:\n",
        "          Pa[l,c, 0] = 0\n",
        "          Pa[l,c, 1] = matriz_rms[l,c+1]\n",
        "          Pb[l, c, 0] = 0\n",
        "          Pb[l, c, 1] = matriz_rms[l-1,c+1]\n",
        "          Pc[l, c, 0] = 0\n",
        "          Pc[l, c, 1] = matriz_rms[l+1,c+1]\n",
        "      elif c == 13:\n",
        "        if l == 0:\n",
        "          Pa[l, c, 0] = matriz_rms[l,c-1]\n",
        "          Pa[l, c, 1] = 0\n",
        "          Pb[l, c, 0] = matriz_rms[l+1,c-1]\n",
        "          Pb[l, c, 1] = 0\n",
        "          Pc[l, c, :] = 0\n",
        "        elif l == 8:\n",
        "          Pa[l, c, 0] = matriz_rms[l,c-1]\n",
        "          Pa[l, c, 1] = 0\n",
        "          Pb[l, c, :] = 0\n",
        "          Pc[l, c, 0] = matriz_rms[l-1,c-1]\n",
        "          Pc[l, c, 1] = 0\n",
        "        elif l < 8 and l > 0 :\n",
        "          Pa[l, c, 0] = matriz_rms[l,c-1]\n",
        "          Pa[l, c, 1] = 0\n",
        "          Pb[l, c, 0] = matriz_rms[l+1,c-1]\n",
        "          Pb[l, c, 1] = 0\n",
        "          Pc[l, c, 0] = matriz_rms[l-1,c-1]\n",
        "          Pc[l, c, 1] = 0\n",
        "      elif l == 0 and c != 0 and c != 13 :\n",
        "        Pa[l, c, 0] = matriz_rms[l,c-1]\n",
        "        Pa[l, c, 1] = matriz_rms[l,c+1]\n",
        "        Pb[l, c, 0] = 0\n",
        "        Pb[l, c, 1] = matriz_rms[l-1,c+1]\n",
        "        Pc[l, c, 0] = 0\n",
        "        Pc[l, c, 1] = matriz_rms[l-1,c-1]\n",
        "      elif l == 8 and c != 0 and c != 13 :\n",
        "        Pa[l, c, 0] = matriz_rms[l,c-1]\n",
        "        Pa[l, c, 1] = matriz_rms[l,c+1]\n",
        "        Pb[l, c, 0] = 0\n",
        "        Pb[l, c, 1] = matriz_rms[l-1,c+1]\n",
        "        Pc[l, c, 0] = 0\n",
        "        Pc[l, c, 1] = matriz_rms[l-1,c-1]\n",
        "      else:\n",
        "        Pa[l, c, 0] = matriz_rms[l,c-1]\n",
        "        Pa[l, c, 1] = matriz_rms[l,c+1]\n",
        "        Pb[l, c, 0] = matriz_rms[l+1,c-1]\n",
        "        Pb[l, c, 1] = matriz_rms[l-1,c+1]\n",
        "        Pc[l, c, 0] = matriz_rms[l-1,c-1]\n",
        "        Pc[l, c, 1] = matriz_rms[l+1,c+1]\n",
        "  return Pa, Pb, Pc"
      ],
      "metadata": {
        "id": "UwPn1Y5dXExq"
      },
      "execution_count": null,
      "outputs": []
    },
    {
      "cell_type": "code",
      "source": [
        "def mean_Pa_Pb_Pc(Pa, Pb, Pc):\n",
        "  matriz_media_Pa = np.mean(Pa, axis=2)\n",
        "  matriz_media_Pb = np.mean(Pb, axis=2)\n",
        "  matriz_media_Pc = np.mean(Pc, axis=2)\n",
        "  return matriz_media_Pa, matriz_media_Pb, matriz_media_Pc\n",
        "\n",
        "def std_Pa_Pb_Pc(Pa, Pb, Pc):\n",
        "  matriz_std_Pa = np.std(Pa, axis=2)\n",
        "  matriz_std_Pb = np.std(Pb, axis=2)\n",
        "  matriz_std_Pc = np.std(Pc, axis=2)\n",
        "  return matriz_std_Pa, matriz_std_Pb, matriz_std_Pc"
      ],
      "metadata": {
        "id": "XMX2oYQcXKqB"
      },
      "execution_count": null,
      "outputs": []
    },
    {
      "cell_type": "code",
      "source": [
        "def thresh_rms_funcao(matriz_media_Pa, matriz_media_Pb, matriz_media_Pc, matriz_std_Pa, matriz_std_Pb, matriz_std_Pc, ref):\n",
        "  min_media = np.min([np.min(matriz_media_Pa[ref]), np.min(matriz_media_Pb[ref]), np.min(matriz_media_Pc[ref])])\n",
        "  max_desvio_padrao = np.max([np.max(matriz_std_Pa[ref]), np.max(matriz_std_Pa[ref]), np.max(matriz_std_Pa[ref])]) #duvida são todos Pa msm?\n",
        "\n",
        "  k2 = 0.2\n",
        "  thresh_rms = min_media + k2*max_desvio_padrao\n",
        "  return thresh_rms"
      ],
      "metadata": {
        "id": "U4RijberXPZv"
      },
      "execution_count": null,
      "outputs": []
    },
    {
      "cell_type": "code",
      "source": [
        "def channels_artifacts(matriz_pl, thresh_l, matriz_rms, thresh_rms, matriz_pline, thresh_line) :\n",
        "  matriz_non_artifact = np.zeros((9, 14))\n",
        "  matriz_non_artifact[np.logical_and(np.logical_and(matriz_pl<thresh_l, matriz_rms>thresh_rms), matriz_pline<thresh_line)] = 1\n",
        "  return matriz_non_artifact"
      ],
      "metadata": {
        "id": "sx_tYDLmXUxI"
      },
      "execution_count": null,
      "outputs": []
    },
    {
      "cell_type": "code",
      "source": [
        "def matrizes_nonArtifact_filtM(subj, movement, speed, session, matriz_p_list_teste, f, matriz_rms_list_teste, criterio):\n",
        "  matriz_pl, matriz_pline = pl_pline(matriz_p_list_teste[subj, movement, speed, session], f)\n",
        "  ref = ref_funcao(matriz_pl, matriz_pline)\n",
        "\n",
        "  k1 = 7.1\n",
        "  thresh_l = thresh(matriz_pl[ref].reshape(-1,1), k1)\n",
        "\n",
        "  kline = 2.5\n",
        "  thresh_line = thresh(matriz_pline[ref].reshape(-1,1), kline)\n",
        "\n",
        "  Pa, Pb, Pc = Pa_Pb_Pc(matriz_rms_list_teste[subj, movement, speed, session])\n",
        "  matriz_media_Pa, matriz_media_Pb, matriz_media_Pc = mean_Pa_Pb_Pc(Pa, Pb, Pc)\n",
        "  matriz_std_Pa, matriz_std_Pb, matriz_std_Pc = std_Pa_Pb_Pc(Pa, Pb, Pc)\n",
        "\n",
        "  thresh_rms = thresh_rms_funcao(matriz_media_Pa, matriz_media_Pb, matriz_media_Pc, matriz_std_Pa, matriz_std_Pb, matriz_std_Pc, ref)\n",
        "  matriz_non_artifact = channels_artifacts(matriz_pl, thresh_l, matriz_rms_list_teste[subj, movement, speed, session], thresh_rms, matriz_pline, thresh_line)\n",
        "  \n",
        "  sem_artefatos = verifica_artefatos(matriz_non_artifact)\n",
        "  if sem_artefatos :\n",
        "    filt_M = filt_activation_map(matriz_rms_list_teste[subj, movement, speed, session], h=0.5)\n",
        "    trial_ok = True\n",
        "  else:\n",
        "    trial_ok = True #criterio_de_remocao_de_trial(matriz_non_artifact, criterio)\n",
        "    if trial_ok :\n",
        "      M = matriz_rms_list_teste[subj, movement, speed, session]#interpolation(matriz_non_artifact, matriz_rms_list_teste[subj, movement, speed, session])\n",
        "      filt_M = filt_activation_map(M, h=0.5)\n",
        "    else :\n",
        "      filt_M = []\n",
        "  \n",
        "  return matriz_non_artifact, filt_M, trial_ok"
      ],
      "metadata": {
        "id": "YCJASKwwVEZk"
      },
      "execution_count": null,
      "outputs": []
    },
    {
      "cell_type": "code",
      "source": [
        "def verifica_artefatos(matriz_non_artifact) :\n",
        "  sem_artefatos = False\n",
        "  soma = np.sum(matriz_non_artifact)\n",
        "  if soma == 126 :\n",
        "    sem_artefatos = True\n",
        "  return sem_artefatos"
      ],
      "metadata": {
        "id": "phi-EUqMXb9l"
      },
      "execution_count": null,
      "outputs": []
    },
    {
      "cell_type": "code",
      "source": [
        "def criterio_de_remocao_de_trial(matriz_non_artifact, criterio) :\n",
        "  canais_bons = 126 - criterio\n",
        "  trial_ok = True\n",
        "  soma = np.sum(matriz_non_artifact)\n",
        "  if soma < canais_bons :\n",
        "    trial_ok = False\n",
        "  return trial_ok"
      ],
      "metadata": {
        "id": "5jCXlD5EXgtH"
      },
      "execution_count": null,
      "outputs": []
    },
    {
      "cell_type": "markdown",
      "source": [
        "## Interpolation of artifact channels\n",
        "\n",
        "\n",
        "The estimation of the values of the channels that were considered as artifacts is performed by a piecewise linear interpolation considering three points around the missing point.  The three points are found by the Delaunay triangulation method. Below the triangles found by the Delaunay method are shown, as well as the good channels (green circles) and the artifact channels (red crosses). \n",
        "\n"
      ],
      "metadata": {
        "id": "AuHZzP8rBmxp"
      }
    },
    {
      "cell_type": "code",
      "source": [
        "def interpolation(matriz_non_artifact, matriz_rms):\n",
        "  points = np.argwhere(matriz_non_artifact)\n",
        "  artifact_points = np.argwhere(np.logical_not(matriz_non_artifact))\n",
        "  tri = Delaunay(points)\n",
        "  M = np.copy(matriz_rms)\n",
        "  z = M[matriz_non_artifact.astype(bool)]\n",
        "  interp = LinearNDInterpolator(tri, z, fill_value=0)\n",
        "  X = np.arange(artifact_points[:,0].min(), \n",
        "                artifact_points[:,0].max()+1)\n",
        "  Y = np.arange(artifact_points[:,1].min(), \n",
        "                artifact_points[:,1].max()+1)\n",
        "  Xmesh, Ymesh = np.meshgrid(X, Y)  \n",
        "  Z = interp(Xmesh, Ymesh)\n",
        "  M[Xmesh,Ymesh] = Z\n",
        "  #plt.triplot(points[:,1], points[:,0], tri.simplices)\n",
        "  #plt.plot(points[:,1], points[:,0], 'og')\n",
        "  #plt.plot(artifact_points[:,1], artifact_points[:,0], 'xr')\n",
        "  #plt.show()\n",
        "  return M"
      ],
      "metadata": {
        "id": "hhLpmMr5XnWh"
      },
      "execution_count": null,
      "outputs": []
    },
    {
      "cell_type": "markdown",
      "source": [
        "The peaks on the activation map were highlighted by using the reconstruction method followed by an opening."
      ],
      "metadata": {
        "id": "ZWY3hrMoBxae"
      }
    },
    {
      "cell_type": "code",
      "source": [
        "def filt_activation_map(M, h=20):\n",
        "  image = M#/M.max()#gaussian_filter(I, 1)\n",
        "  # seed = np.copy(image)\n",
        "  seed = image - h\n",
        "  mask = image\n",
        "\n",
        "  dilated = reconstruction(seed, mask, method='dilation')\n",
        "  filt_act_map = diameter_opening(dilated, 2)\n",
        "  return filt_act_map"
      ],
      "metadata": {
        "id": "1qKgUXrWX-jX"
      },
      "execution_count": null,
      "outputs": []
    },
    {
      "cell_type": "markdown",
      "source": [
        "##Centro de massa\n",
        "\n",
        "$CM_x = \\frac{\\sum_i M_ix_i}{\\sum_i M_i}$\n",
        "\n",
        "$CM_y = \\frac{\\sum_i M_iy_i}{\\sum_i M_i}$"
      ],
      "metadata": {
        "id": "_V9sSwyrB2Lx"
      }
    },
    {
      "cell_type": "code",
      "source": [
        "def centro_de_massa(matriz) :\n",
        "  somaMx = 0\n",
        "  somaMy = 0\n",
        "  somaM = 0\n",
        "\n",
        "  for x in np.arange(1,15):\n",
        "    for y in np.arange(1,10):\n",
        "\n",
        "      somaMx = somaMx + matriz[y-1,x-1]*x\n",
        "      somaMy = somaMy + matriz[y-1,x-1]*y\n",
        "      somaM = somaM + matriz[y-1,x-1]\n",
        "\n",
        "  CMx = somaMx/somaM\n",
        "  CMy = somaMy/somaM\n",
        "  \n",
        "  return CMx, CMy"
      ],
      "metadata": {
        "id": "Ieg6o5ttYTxn"
      },
      "execution_count": null,
      "outputs": []
    },
    {
      "cell_type": "code",
      "source": [
        "def quadrantes(matriz) :\n",
        "  i1 = []\n",
        "  i2 = []\n",
        "  i3 = []\n",
        "  i4 = []\n",
        "  i5 = []\n",
        "  i6 = []\n",
        "  for c in np.arange(0,14):\n",
        "    for l in np.arange(0,9):\n",
        "      if c <= 6 and l <= 2 :\n",
        "        i1.append(matriz[l,c])\n",
        "      elif c > 6 and l <= 2 :\n",
        "        i2.append(matriz[l,c])\n",
        "      elif c <= 6 and l > 2 and l <= 5 :\n",
        "        i3.append(matriz[l,c])\n",
        "      elif c > 6 and l > 2 and l <= 5 :\n",
        "        i4.append(matriz[l,c])\n",
        "      elif c <= 6 and l > 5 :\n",
        "        i5.append(matriz[l,c])\n",
        "      elif c > 6 and l > 5 :\n",
        "        i6.append(matriz[l,c])\n",
        "  mean_i1 = np.mean(i1)\n",
        "  mean_i2 = np.mean(i2)\n",
        "  mean_i3 = np.mean(i3)\n",
        "  mean_i4 = np.mean(i4)\n",
        "  mean_i5 = np.mean(i5)\n",
        "  mean_i6 = np.mean(i6)\n",
        "  return mean_i1, mean_i2, mean_i3, mean_i4, mean_i5, mean_i6"
      ],
      "metadata": {
        "id": "xFKX1o6cYZhT"
      },
      "execution_count": null,
      "outputs": []
    },
    {
      "cell_type": "markdown",
      "source": [
        "##Feature tables\n",
        "\n",
        "The table contains the following information:\n",
        "\n",
        "* CMx : centro de massa em x\n",
        "* CMy : centro de massa em y\n",
        "* I1, I2, I3, I4, I5, I6 : média dos quadrantes $I_i$\n",
        "* Movement: the movement performed in the trial\n",
        "* Subject: person who made the trial"
      ],
      "metadata": {
        "id": "UYwHBOqVj-S_"
      }
    },
    {
      "cell_type": "code",
      "source": [
        "colunas= ['CMx','CMy','I1','I2','I3', 'I4', 'I5', 'I6', 'Movement','Subject']\n",
        "caracteristicas = pd.DataFrame(columns=colunas)\n",
        "file_image = h5py.File(\"/content/drive/MyDrive/dicionario/acmaps_nonorm_cut_nofilt.h5\", \"w\")\n",
        "movimentos= np.array([\"cilinder\", \"point\", \"3digit\", \"thumbFlex\", \"index\", \"index_flex\", \"thumbAdd\", \"middle\", \"fist\", \"middle_flex\", \"pinch\", \"thumbExt\", \"disc\"])\n",
        "velocidade = ['fast', 'slow']\n",
        "contador = 0\n",
        "dataset = file_image.create_dataset(\n",
        "        \"image/\", (1013,1,9,14), h5py.h5t.IEEE_F64BE)\n",
        "meta_set = file_image.create_dataset(\n",
        "    \"meta/\", (1013,1), h5py.h5t.STD_U64BE)\n",
        "for subj in range(1,26) :\n",
        "  for session in range(1,4) :\n",
        "    for movement in movimentos :\n",
        "      for speed in velocidade :\n",
        "        try:  \n",
        "            S = matriz_p_list[subj, movement, speed, session]\n",
        "            f = np.linspace(0, 1024, S.shape[2])\n",
        "           \n",
        "            # matriz_non_artifact, filt_M, trial_ok = matrizes_nonArtifact_filtM(subj, movement, speed, session, matriz_p_list, f, matriz_rms_list, 40)\n",
        "            trial_ok = True\n",
        "            filt_M = matriz_rms_list[subj, movement, speed, session]\n",
        "            if trial_ok:\n",
        "                cmx, cmy = centro_de_massa(filt_M)\n",
        "                caracteristicas.loc[contador,'CMx'] = cmx\n",
        "                caracteristicas.loc[contador,'CMy'] = cmy\n",
        "                caracteristicas.loc[contador,'Movement'] = movement\n",
        "                i1, i2, i3, i4, i5, i6 = quadrantes(filt_M)\n",
        "                caracteristicas.loc[contador,'I1'] = i1\n",
        "                caracteristicas.loc[contador,'I2'] = i2\n",
        "                caracteristicas.loc[contador,'I3'] = i3\n",
        "                caracteristicas.loc[contador,'I4'] = i4\n",
        "                caracteristicas.loc[contador,'I5'] = i5\n",
        "                caracteristicas.loc[contador,'I6'] = i6\n",
        "                caracteristicas.loc[contador,'Subject'] = subj\n",
        "                dataset[contador,0,:,:] = filt_M\n",
        "                meta_set[contador,0] = np.argwhere(movimentos==movement)[0][0]\n",
        "                contador = contador + 1\n",
        "        except KeyError:\n",
        "            pass\n",
        "    caracteristicas.to_csv('/content/drive/MyDrive/dicionario/caracteristicas_nonorm_cut_nofilt.csv', index=False)\n",
        "caracteristicas\n",
        "# dataset = (dataset - dataset[()].min(axis=0))/(dataset[()].max(axis=0)-dataset[()].min(axis=0))\n",
        "file_image.close()"
      ],
      "metadata": {
        "id": "6idR065aVX1d"
      },
      "execution_count": null,
      "outputs": []
    },
    {
      "cell_type": "code",
      "source": [
        "file_image.close()"
      ],
      "metadata": {
        "id": "iYD6rx4lGg8S"
      },
      "execution_count": null,
      "outputs": []
    },
    {
      "cell_type": "code",
      "source": [
        "caract = pd.read_csv('/content/drive/MyDrive/dicionario/caracteristicas_nonorm_cut_nofilt.csv')\n",
        "caract"
      ],
      "metadata": {
        "colab": {
          "base_uri": "https://localhost:8080/",
          "height": 424
        },
        "id": "Lko-Fev3eObp",
        "outputId": "0793dbe7-5ea0-4ea8-9b3b-e3d808cb0626"
      },
      "execution_count": null,
      "outputs": [
        {
          "output_type": "execute_result",
          "data": {
            "text/plain": [
              "           CMx       CMy           I1           I2           I3           I4  \\\n",
              "0     7.050261  4.307841  4373.360320  3577.779205  4828.151024  3501.461601   \n",
              "1     6.915705  5.680973    11.107965    23.245156    14.463653    16.086331   \n",
              "2     6.768928  5.812788    20.903648    62.817057    33.685063    38.465646   \n",
              "3     7.250993  5.229671    13.066266    18.585213    13.759849    14.289209   \n",
              "4     7.263968  5.276537     8.953745    13.835927     9.904394    10.573882   \n",
              "...        ...       ...          ...          ...          ...          ...   \n",
              "1008  6.764334  6.940233   210.915919   194.421056   350.226885   286.499245   \n",
              "1009  6.790595  6.943557    94.374880    70.115794   141.162059   111.850490   \n",
              "1010  8.207461  5.524549    71.276347    80.973102    66.572431    79.955979   \n",
              "1011  8.433199  5.592985    72.385886    98.437273    75.269806    95.375971   \n",
              "1012  8.109217  5.757565    66.413525    78.207648    70.528598    80.541642   \n",
              "\n",
              "               I5           I6     Movement  Subject  \n",
              "0     1414.127391  1333.004479     cilinder        1  \n",
              "1       42.830479    17.088632        point        1  \n",
              "2      121.928849    39.340008        point        1  \n",
              "3       23.865808    14.404630    thumbFlex        1  \n",
              "4       18.377564    10.344240    thumbFlex        1  \n",
              "...           ...          ...          ...      ...  \n",
              "1008  1285.198756  1109.902057  middle_flex       25  \n",
              "1009   497.649618   469.918938  middle_flex       25  \n",
              "1010    86.921678   147.355966        pinch       25  \n",
              "1011    93.770922   189.742491         disc       25  \n",
              "1012    96.424172   183.344058         disc       25  \n",
              "\n",
              "[1013 rows x 10 columns]"
            ],
            "text/html": [
              "\n",
              "  <div id=\"df-5c009e0d-76b2-4667-ad3d-58e13917260d\">\n",
              "    <div class=\"colab-df-container\">\n",
              "      <div>\n",
              "<style scoped>\n",
              "    .dataframe tbody tr th:only-of-type {\n",
              "        vertical-align: middle;\n",
              "    }\n",
              "\n",
              "    .dataframe tbody tr th {\n",
              "        vertical-align: top;\n",
              "    }\n",
              "\n",
              "    .dataframe thead th {\n",
              "        text-align: right;\n",
              "    }\n",
              "</style>\n",
              "<table border=\"1\" class=\"dataframe\">\n",
              "  <thead>\n",
              "    <tr style=\"text-align: right;\">\n",
              "      <th></th>\n",
              "      <th>CMx</th>\n",
              "      <th>CMy</th>\n",
              "      <th>I1</th>\n",
              "      <th>I2</th>\n",
              "      <th>I3</th>\n",
              "      <th>I4</th>\n",
              "      <th>I5</th>\n",
              "      <th>I6</th>\n",
              "      <th>Movement</th>\n",
              "      <th>Subject</th>\n",
              "    </tr>\n",
              "  </thead>\n",
              "  <tbody>\n",
              "    <tr>\n",
              "      <th>0</th>\n",
              "      <td>7.050261</td>\n",
              "      <td>4.307841</td>\n",
              "      <td>4373.360320</td>\n",
              "      <td>3577.779205</td>\n",
              "      <td>4828.151024</td>\n",
              "      <td>3501.461601</td>\n",
              "      <td>1414.127391</td>\n",
              "      <td>1333.004479</td>\n",
              "      <td>cilinder</td>\n",
              "      <td>1</td>\n",
              "    </tr>\n",
              "    <tr>\n",
              "      <th>1</th>\n",
              "      <td>6.915705</td>\n",
              "      <td>5.680973</td>\n",
              "      <td>11.107965</td>\n",
              "      <td>23.245156</td>\n",
              "      <td>14.463653</td>\n",
              "      <td>16.086331</td>\n",
              "      <td>42.830479</td>\n",
              "      <td>17.088632</td>\n",
              "      <td>point</td>\n",
              "      <td>1</td>\n",
              "    </tr>\n",
              "    <tr>\n",
              "      <th>2</th>\n",
              "      <td>6.768928</td>\n",
              "      <td>5.812788</td>\n",
              "      <td>20.903648</td>\n",
              "      <td>62.817057</td>\n",
              "      <td>33.685063</td>\n",
              "      <td>38.465646</td>\n",
              "      <td>121.928849</td>\n",
              "      <td>39.340008</td>\n",
              "      <td>point</td>\n",
              "      <td>1</td>\n",
              "    </tr>\n",
              "    <tr>\n",
              "      <th>3</th>\n",
              "      <td>7.250993</td>\n",
              "      <td>5.229671</td>\n",
              "      <td>13.066266</td>\n",
              "      <td>18.585213</td>\n",
              "      <td>13.759849</td>\n",
              "      <td>14.289209</td>\n",
              "      <td>23.865808</td>\n",
              "      <td>14.404630</td>\n",
              "      <td>thumbFlex</td>\n",
              "      <td>1</td>\n",
              "    </tr>\n",
              "    <tr>\n",
              "      <th>4</th>\n",
              "      <td>7.263968</td>\n",
              "      <td>5.276537</td>\n",
              "      <td>8.953745</td>\n",
              "      <td>13.835927</td>\n",
              "      <td>9.904394</td>\n",
              "      <td>10.573882</td>\n",
              "      <td>18.377564</td>\n",
              "      <td>10.344240</td>\n",
              "      <td>thumbFlex</td>\n",
              "      <td>1</td>\n",
              "    </tr>\n",
              "    <tr>\n",
              "      <th>...</th>\n",
              "      <td>...</td>\n",
              "      <td>...</td>\n",
              "      <td>...</td>\n",
              "      <td>...</td>\n",
              "      <td>...</td>\n",
              "      <td>...</td>\n",
              "      <td>...</td>\n",
              "      <td>...</td>\n",
              "      <td>...</td>\n",
              "      <td>...</td>\n",
              "    </tr>\n",
              "    <tr>\n",
              "      <th>1008</th>\n",
              "      <td>6.764334</td>\n",
              "      <td>6.940233</td>\n",
              "      <td>210.915919</td>\n",
              "      <td>194.421056</td>\n",
              "      <td>350.226885</td>\n",
              "      <td>286.499245</td>\n",
              "      <td>1285.198756</td>\n",
              "      <td>1109.902057</td>\n",
              "      <td>middle_flex</td>\n",
              "      <td>25</td>\n",
              "    </tr>\n",
              "    <tr>\n",
              "      <th>1009</th>\n",
              "      <td>6.790595</td>\n",
              "      <td>6.943557</td>\n",
              "      <td>94.374880</td>\n",
              "      <td>70.115794</td>\n",
              "      <td>141.162059</td>\n",
              "      <td>111.850490</td>\n",
              "      <td>497.649618</td>\n",
              "      <td>469.918938</td>\n",
              "      <td>middle_flex</td>\n",
              "      <td>25</td>\n",
              "    </tr>\n",
              "    <tr>\n",
              "      <th>1010</th>\n",
              "      <td>8.207461</td>\n",
              "      <td>5.524549</td>\n",
              "      <td>71.276347</td>\n",
              "      <td>80.973102</td>\n",
              "      <td>66.572431</td>\n",
              "      <td>79.955979</td>\n",
              "      <td>86.921678</td>\n",
              "      <td>147.355966</td>\n",
              "      <td>pinch</td>\n",
              "      <td>25</td>\n",
              "    </tr>\n",
              "    <tr>\n",
              "      <th>1011</th>\n",
              "      <td>8.433199</td>\n",
              "      <td>5.592985</td>\n",
              "      <td>72.385886</td>\n",
              "      <td>98.437273</td>\n",
              "      <td>75.269806</td>\n",
              "      <td>95.375971</td>\n",
              "      <td>93.770922</td>\n",
              "      <td>189.742491</td>\n",
              "      <td>disc</td>\n",
              "      <td>25</td>\n",
              "    </tr>\n",
              "    <tr>\n",
              "      <th>1012</th>\n",
              "      <td>8.109217</td>\n",
              "      <td>5.757565</td>\n",
              "      <td>66.413525</td>\n",
              "      <td>78.207648</td>\n",
              "      <td>70.528598</td>\n",
              "      <td>80.541642</td>\n",
              "      <td>96.424172</td>\n",
              "      <td>183.344058</td>\n",
              "      <td>disc</td>\n",
              "      <td>25</td>\n",
              "    </tr>\n",
              "  </tbody>\n",
              "</table>\n",
              "<p>1013 rows × 10 columns</p>\n",
              "</div>\n",
              "      <button class=\"colab-df-convert\" onclick=\"convertToInteractive('df-5c009e0d-76b2-4667-ad3d-58e13917260d')\"\n",
              "              title=\"Convert this dataframe to an interactive table.\"\n",
              "              style=\"display:none;\">\n",
              "        \n",
              "  <svg xmlns=\"http://www.w3.org/2000/svg\" height=\"24px\"viewBox=\"0 0 24 24\"\n",
              "       width=\"24px\">\n",
              "    <path d=\"M0 0h24v24H0V0z\" fill=\"none\"/>\n",
              "    <path d=\"M18.56 5.44l.94 2.06.94-2.06 2.06-.94-2.06-.94-.94-2.06-.94 2.06-2.06.94zm-11 1L8.5 8.5l.94-2.06 2.06-.94-2.06-.94L8.5 2.5l-.94 2.06-2.06.94zm10 10l.94 2.06.94-2.06 2.06-.94-2.06-.94-.94-2.06-.94 2.06-2.06.94z\"/><path d=\"M17.41 7.96l-1.37-1.37c-.4-.4-.92-.59-1.43-.59-.52 0-1.04.2-1.43.59L10.3 9.45l-7.72 7.72c-.78.78-.78 2.05 0 2.83L4 21.41c.39.39.9.59 1.41.59.51 0 1.02-.2 1.41-.59l7.78-7.78 2.81-2.81c.8-.78.8-2.07 0-2.86zM5.41 20L4 18.59l7.72-7.72 1.47 1.35L5.41 20z\"/>\n",
              "  </svg>\n",
              "      </button>\n",
              "      \n",
              "  <style>\n",
              "    .colab-df-container {\n",
              "      display:flex;\n",
              "      flex-wrap:wrap;\n",
              "      gap: 12px;\n",
              "    }\n",
              "\n",
              "    .colab-df-convert {\n",
              "      background-color: #E8F0FE;\n",
              "      border: none;\n",
              "      border-radius: 50%;\n",
              "      cursor: pointer;\n",
              "      display: none;\n",
              "      fill: #1967D2;\n",
              "      height: 32px;\n",
              "      padding: 0 0 0 0;\n",
              "      width: 32px;\n",
              "    }\n",
              "\n",
              "    .colab-df-convert:hover {\n",
              "      background-color: #E2EBFA;\n",
              "      box-shadow: 0px 1px 2px rgba(60, 64, 67, 0.3), 0px 1px 3px 1px rgba(60, 64, 67, 0.15);\n",
              "      fill: #174EA6;\n",
              "    }\n",
              "\n",
              "    [theme=dark] .colab-df-convert {\n",
              "      background-color: #3B4455;\n",
              "      fill: #D2E3FC;\n",
              "    }\n",
              "\n",
              "    [theme=dark] .colab-df-convert:hover {\n",
              "      background-color: #434B5C;\n",
              "      box-shadow: 0px 1px 3px 1px rgba(0, 0, 0, 0.15);\n",
              "      filter: drop-shadow(0px 1px 2px rgba(0, 0, 0, 0.3));\n",
              "      fill: #FFFFFF;\n",
              "    }\n",
              "  </style>\n",
              "\n",
              "      <script>\n",
              "        const buttonEl =\n",
              "          document.querySelector('#df-5c009e0d-76b2-4667-ad3d-58e13917260d button.colab-df-convert');\n",
              "        buttonEl.style.display =\n",
              "          google.colab.kernel.accessAllowed ? 'block' : 'none';\n",
              "\n",
              "        async function convertToInteractive(key) {\n",
              "          const element = document.querySelector('#df-5c009e0d-76b2-4667-ad3d-58e13917260d');\n",
              "          const dataTable =\n",
              "            await google.colab.kernel.invokeFunction('convertToInteractive',\n",
              "                                                     [key], {});\n",
              "          if (!dataTable) return;\n",
              "\n",
              "          const docLinkHtml = 'Like what you see? Visit the ' +\n",
              "            '<a target=\"_blank\" href=https://colab.research.google.com/notebooks/data_table.ipynb>data table notebook</a>'\n",
              "            + ' to learn more about interactive tables.';\n",
              "          element.innerHTML = '';\n",
              "          dataTable['output_type'] = 'display_data';\n",
              "          await google.colab.output.renderOutput(dataTable, element);\n",
              "          const docLink = document.createElement('div');\n",
              "          docLink.innerHTML = docLinkHtml;\n",
              "          element.appendChild(docLink);\n",
              "        }\n",
              "      </script>\n",
              "    </div>\n",
              "  </div>\n",
              "  "
            ]
          },
          "metadata": {},
          "execution_count": 4
        }
      ]
    },
    {
      "cell_type": "code",
      "source": [
        "import matplotlib.pyplot as plt\n",
        "plt.hist(caract.query('Movement==\"thumbFlex\"')['CMx'])\n",
        "plt.hist(caract.query('Movement==\"thumbFlex\"')['CMy'])"
      ],
      "metadata": {
        "colab": {
          "base_uri": "https://localhost:8080/",
          "height": 353
        },
        "id": "YD0lcRCdePBK",
        "outputId": "c29aaed6-c3f6-4499-dda8-78d7ca184a36"
      },
      "execution_count": null,
      "outputs": [
        {
          "output_type": "execute_result",
          "data": {
            "text/plain": [
              "(array([ 2.,  1.,  5.,  2.,  9., 26., 12., 12.,  1.,  4.]),\n",
              " array([1.33383453, 1.99229067, 2.65074681, 3.30920296, 3.9676591 ,\n",
              "        4.62611525, 5.28457139, 5.94302753, 6.60148368, 7.25993982,\n",
              "        7.91839596]),\n",
              " <a list of 10 Patch objects>)"
            ]
          },
          "metadata": {},
          "execution_count": 11
        },
        {
          "output_type": "display_data",
          "data": {
            "text/plain": [
              "<Figure size 432x288 with 1 Axes>"
            ],
            "image/png": "[encoded data removed]"
          },
          "metadata": {
            "needs_background": "light"
          }
        }
      ]
    },
    {
      "cell_type": "code",
      "source": [
        "plt.hist(caract.query('Movement==\"pinch\"')['CMx'])\n",
        "plt.hist(caract.query('Movement==\"pinch\"')['CMy'])"
      ],
      "metadata": {
        "colab": {
          "base_uri": "https://localhost:8080/",
          "height": 352
        },
        "id": "1yNlhcVzEyRp",
        "outputId": "d951c002-2bdd-4158-ceb9-e61b0adab292"
      },
      "execution_count": null,
      "outputs": [
        {
          "output_type": "execute_result",
          "data": {
            "text/plain": [
              "(array([ 1.,  2.,  1., 15., 19.,  9.,  0.,  0.,  0.,  4.]),\n",
              " array([2.89031778, 3.40192368, 3.91352959, 4.42513549, 4.93674139,\n",
              "        5.4483473 , 5.9599532 , 6.47155911, 6.98316501, 7.49477092,\n",
              "        8.00637682]),\n",
              " <a list of 10 Patch objects>)"
            ]
          },
          "metadata": {},
          "execution_count": 12
        },
        {
          "output_type": "display_data",
          "data": {
            "text/plain": [
              "<Figure size 432x288 with 1 Axes>"
            ],
            "image/png": "[encoded data removed]"
          },
          "metadata": {
            "needs_background": "light"
          }
        }
      ]
    },
    {
      "cell_type": "code",
      "source": [
        "import matplotlib.pyplot as plt\n",
        "plt.imshow(matriz_rms_list[1, 'middle_flex', 'slow', 3])"
      ],
      "metadata": {
        "colab": {
          "base_uri": "https://localhost:8080/",
          "height": 280
        },
        "id": "am_HjRX_eqES",
        "outputId": "860903ad-f5c5-4bcf-85a8-da4a0798b360"
      },
      "execution_count": null,
      "outputs": [
        {
          "output_type": "execute_result",
          "data": {
            "text/plain": [
              "<matplotlib.image.AxesImage at 0x7f940f9d3d90>"
            ]
          },
          "metadata": {},
          "execution_count": 49
        },
        {
          "output_type": "display_data",
          "data": {
            "text/plain": [
              "<Figure size 432x288 with 1 Axes>"
            ],
            "image/png": "[encoded data removed]"
          },
          "metadata": {
            "needs_background": "light"
          }
        }
      ]
    }
  ]
}